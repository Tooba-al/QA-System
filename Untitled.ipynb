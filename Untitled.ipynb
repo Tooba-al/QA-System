{
 "cells": [
  {
   "cell_type": "code",
   "execution_count": null,
   "id": "4dcc6386",
   "metadata": {},
   "outputs": [],
   "source": [
    "import spacy\n",
    "import pandas as pd\n",
    "from nltk.stem import WordNetLemmatizer\n",
    "import datetime\n",
    "from colorama import Fore\n",
    "import time\n",
    "import numpy as np\n",
    "from sklearn.model_selection import train_test_split\n",
    "import json\n",
    "import nltk\n",
    "import category_encoders as ce\n",
    "from sklearn.preprocessing import RobustScaler\n",
    "from sklearn.naive_bayes import GaussianNB\n",
    "from sklearn.metrics import accuracy_score\n",
    "\n",
    "start_time = time.time()\n",
    "print(\n",
    "Fore.WHITE\n",
    "+ \"Start Time: = %s:%s:%s\\n\"\n",
    "% (\n",
    "    datetime.datetime.now().hour,\n",
    "    datetime.datetime.now().minute,\n",
    "    datetime.datetime.now().second,\n",
    ")\n",
    ")\n",
    "\n",
    "nlp = spacy.load(\"en_core_web_sm\")\n",
    "lemmatizer = WordNetLemmatizer()"
   ]
  },
  {
   "cell_type": "code",
   "execution_count": null,
   "id": "0b36aa3b",
   "metadata": {},
   "outputs": [],
   "source": [
    "df = pd.read_csv(\"ClassificationAlgos/Features_dev1.csv\", encoding=\"utf8\")\n",
    "\n",
    "\n",
    "# Declare feature vector and target variable\n",
    "X = df.drop([\"answer\"], axis=\"columns\")\n",
    "y = df[\"answer\"]\n",
    "\n",
    "# Split data into separate training and test set\n",
    "X_train, X_test, y_train, y_test = train_test_split(\n",
    "    X, y, test_size=0.3, random_state=0\n",
    ")\n",
    "\n",
    "# check the shape of X_train and X_test\n",
    "X_train.shape, X_test.shape"
   ]
  },
  {
   "cell_type": "code",
   "execution_count": null,
   "id": "ded59dae",
   "metadata": {},
   "outputs": [],
   "source": [
    "categorical = [col for col in X_train.columns if X_train[col].dtypes == \"O\"]\n",
    "print(Fore.GREEN + \"Categorical Variables:\", categorical)\n",
    "numerical = [col for col in X_train.columns if X_train[col].dtypes != \"O\"]\n",
    "print(Fore.GREEN + \"Numerical Variables:\", numerical)"
   ]
  },
  {
   "cell_type": "code",
   "execution_count": null,
   "id": "acb0ec75",
   "metadata": {},
   "outputs": [],
   "source": [
    "# impute missing categorical variables with most frequent value\n",
    "for df2 in [X_train, X_test]:\n",
    "    # df2[\"question\"].fillna(X_train[\"question\"].mode()[0], inplace=True)\n",
    "    df2[\"span\"].fillna(X_train[\"span\"].mode()[0], inplace=True)\n",
    "    # df2[\"answer\"].fillna(X_train[\"answer\"].mode()[0], inplace=True)\n",
    "    df2[\"wh_word\"].fillna(X_train[\"wh_word\"].mode()[0], inplace=True)\n",
    "    df2[\"syntactic_divergence\"].fillna(\n",
    "        X_train[\"syntactic_divergence\"].mode()[0], inplace=True\n",
    "    )\n",
    "    df2[\"root_matching\"].fillna(X_train[\"root_matching\"].mode()[0], inplace=True)\n",
    "    df2[\"span_TFIDF\"].fillna(X_train[\"span_TFIDF\"].mode()[0], inplace=True)\n",
    "    df2[\"matching_word_frequency\"].fillna(\n",
    "        X_train[\"matching_word_frequency\"].mode()[0], inplace=True\n",
    "    )\n",
    "    df2[\"bigram_overlap\"].fillna(X_train[\"bigram_overlap\"].mode()[0], inplace=True)\n",
    "    df2[\"trigram_overlap\"].fillna(\n",
    "        X_train[\"trigram_overlap\"].mode()[0], inplace=True\n",
    "    )\n",
    "    df2[\"span_word_frequency\"].fillna(\n",
    "        X_train[\"span_word_frequency\"].mode()[0], inplace=True\n",
    "    )\n",
    "    df2[\"bigram_TFIDF\"].fillna(X_train[\"bigram_TFIDF\"].mode()[0], inplace=True)\n",
    "    df2[\"trigram_TFIDF\"].fillna(X_train[\"trigram_TFIDF\"].mode()[0], inplace=True)\n",
    "    df2[\"minkowski_distance\"].fillna(\n",
    "        X_train[\"minkowski_distance\"].mode()[0], inplace=True\n",
    "    )\n",
    "    df2[\"manhattan_distance\"].fillna(\n",
    "        X_train[\"manhattan_distance\"].mode()[0], inplace=True\n",
    "    )\n",
    "    df2[\"euclidean_distance\"].fillna(\n",
    "        X_train[\"euclidean_distance\"].mode()[0], inplace=True\n",
    "    )\n",
    "    df2[\"hamming_distance\"].fillna(\n",
    "        X_train[\"hamming_distance\"].mode()[0], inplace=True\n",
    "    )\n",
    "    df2[\"jaccard_distance\"].fillna(\n",
    "        X_train[\"jaccard_distance\"].mode()[0], inplace=True\n",
    "    )\n",
    "    df2[\"edit_distance\"].fillna(X_train[\"edit_distance\"].mode()[0], inplace=True)\n",
    "    df2[\"span_length\"].fillna(X_train[\"span_length\"].mode()[0], inplace=True)\n",
    "    # df2[\"question_length\"].fillna(X_train[\"question_length\"].mode()[0], inplace=True)\n"
   ]
  },
  {
   "cell_type": "code",
   "execution_count": null,
   "id": "bd738c97",
   "metadata": {},
   "outputs": [],
   "source": [
    "# print(\n",
    "#     Fore.YELLOW + \"Check missing values in categorical variables in X_train:\\n\",\n",
    "#     X_train[categorical].isnull().sum(),\n",
    "# )\n",
    "# print(\n",
    "#     Fore.YELLOW + \"Check missing values in categorical variables in X_train:\\n\",\n",
    "#     X_train[categorical].isnull().sum(),\n",
    "# )\n",
    "# print(Fore.YELLOW + \"Check missing values in X_train:\\n\", X_train.isnull().sum())\n",
    "# print(Fore.YELLOW + \"Check missing values in X_test\\n\", X_test.isnull().sum())\n"
   ]
  },
  {
   "cell_type": "code",
   "execution_count": null,
   "id": "133a7f24",
   "metadata": {},
   "outputs": [],
   "source": [
    "# encode remaining variables with one-hot encoding\n",
    "encoder = ce.OneHotEncoder(\n",
    "    cols=[\n",
    "        \"question\",\n",
    "        \"span\",\n",
    "    ]\n",
    ")\n",
    "X_train = encoder.fit_transform(X_train)\n",
    "X_test = encoder.transform(X_test)"
   ]
  },
  {
   "cell_type": "code",
   "execution_count": null,
   "id": "6a68f4fe",
   "metadata": {},
   "outputs": [],
   "source": [
    "# Feature Scaling\n",
    "cols = X_train.columns\n",
    "scaler = RobustScaler()\n",
    "X_train = scaler.fit_transform(X_train)\n",
    "X_test = scaler.transform(X_test)\n",
    "X_train = pd.DataFrame(X_train, columns=[cols])\n",
    "X_test = pd.DataFrame(X_test, columns=[cols])"
   ]
  },
  {
   "cell_type": "code",
   "execution_count": null,
   "id": "33419a1e",
   "metadata": {},
   "outputs": [],
   "source": [
    "# train a Gaussian Naive Bayes classifier on the training set\n",
    "# instantiate the model\n",
    "gnb = GaussianNB()\n",
    "# fit the model\n",
    "gnb.fit(X_train, y_train)"
   ]
  },
  {
   "cell_type": "code",
   "execution_count": null,
   "id": "70c09000",
   "metadata": {},
   "outputs": [],
   "source": [
    "# Predict the Results\n",
    "y_pred = gnb.predict(X_test)\n",
    "# print(\"Results are:\", y_pred)"
   ]
  },
  {
   "cell_type": "code",
   "execution_count": null,
   "id": "c58834d8",
   "metadata": {},
   "outputs": [],
   "source": [
    "# Model Accuracy\n",
    "print(\n",
    "    Fore.LIGHTBLUE_EX\n",
    "    + \"\\nModel accuracy score: {0:0.4f}%\".format(\n",
    "        accuracy_score(y_test, y_pred) * 100\n",
    "    )\n",
    ")"
   ]
  },
  {
   "cell_type": "code",
   "execution_count": null,
   "id": "b28311b6",
   "metadata": {},
   "outputs": [],
   "source": [
    "# Compare the train-set and test-set accuracy\n",
    "y_pred_train = gnb.predict(X_train)\n",
    "print(\n",
    "    \"Training-set accuracy score: {0:0.4f}%\".format(\n",
    "        accuracy_score(y_train, y_pred_train) * 100\n",
    "    )\n",
    ")"
   ]
  },
  {
   "cell_type": "code",
   "execution_count": null,
   "id": "6fc7bab2",
   "metadata": {},
   "outputs": [],
   "source": [
    "# print the scores on training and test set\n",
    "print(\"\\nTraining set score: {:.4f}%\".format(gnb.score(X_train, y_train) * 100))\n",
    "print(\"Test set score: {:.4f}%\".format(gnb.score(X_test, y_test) * 100))\n"
   ]
  },
  {
   "cell_type": "code",
   "execution_count": null,
   "id": "95e0ddb6",
   "metadata": {},
   "outputs": [],
   "source": [
    "end_time = time.time()\n",
    "print(Fore.WHITE + \"\\nExecution Time = \", (end_time - start_time), \"seconds\")\n"
   ]
  }
 ],
 "metadata": {
  "kernelspec": {
   "display_name": "\"Python/Mu (mu_venv-38-20221208-192138)\"",
   "language": "python",
   "name": "mu_venv-38-20221208-192138"
  }
 },
 "nbformat": 4,
 "nbformat_minor": 5
}
